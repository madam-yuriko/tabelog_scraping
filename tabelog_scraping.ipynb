{
 "cells": [
  {
   "cell_type": "code",
   "execution_count": 1,
   "metadata": {
    "tags": []
   },
   "outputs": [
    {
     "name": "stdout",
     "output_type": "stream",
     "text": [
      "load:https://tabelog.com/hyogo/A0101/A010101/28047056/ success!:200\n",
      "load:https://tabelog.com/hyogo/A0101/A010101/28047057/ success!:200\n",
      "load:https://tabelog.com/hyogo/A0101/A010101/28047058/ success!:200\n",
      "load:https://tabelog.com/hyogo/A0101/A010101/28047059/ success!:200\n",
      "load:https://tabelog.com/hyogo/A0101/A010101/28047060/ success!:200\n",
      "load:https://tabelog.com/hyogo/A0101/A010101/28047061/ success!:200\n",
      "load:https://tabelog.com/hyogo/A0101/A010101/28047062/ success!:200\n",
      "load:https://tabelog.com/hyogo/A0101/A010101/28047063/ success!:200\n",
      "load:https://tabelog.com/hyogo/A0101/A010101/28047064/ success!:200\n",
      "load:https://tabelog.com/hyogo/A0101/A010101/28047065/ success!:200\n",
      "load:https://tabelog.com/hyogo/A0101/A010101/28047066/ success!:200\n",
      "load:https://tabelog.com/hyogo/A0101/A010101/28047067/ success!:200\n",
      "load:https://tabelog.com/hyogo/A0101/A010101/28047068/ success!:200\n",
      "load:https://tabelog.com/hyogo/A0101/A010101/28047069/ success!:200\n",
      "load:https://tabelog.com/hyogo/A0101/A010101/28047070/ success!:200\n",
      "load:https://tabelog.com/hyogo/A0101/A010101/28047071/ success!:200\n",
      "load:https://tabelog.com/hyogo/A0101/A010101/28047072/ success!:200\n",
      "load:https://tabelog.com/hyogo/A0101/A010101/28047073/ success!:200\n",
      "load:https://tabelog.com/hyogo/A0101/A010101/28047074/ success!:200\n",
      "load:https://tabelog.com/hyogo/A0101/A010101/28047075/ success!:200\n",
      "load:https://tabelog.com/hyogo/A0101/A010101/28047076/ success!:200\n",
      "load:https://tabelog.com/hyogo/A0101/A010101/28047077/ success!:200\n",
      "load:https://tabelog.com/hyogo/A0101/A010101/28047078/ success!:200\n",
      "load:https://tabelog.com/hyogo/A0101/A010101/28047079/ success!:200\n",
      "load:https://tabelog.com/hyogo/A0101/A010101/28047080/ success!:200\n",
      "load:https://tabelog.com/hyogo/A0101/A010101/28047081/ success!:200\n",
      "load:https://tabelog.com/hyogo/A0101/A010101/28047082/ success!:200\n",
      "load:https://tabelog.com/hyogo/A0101/A010101/28047083/ success!:200\n",
      "load:https://tabelog.com/hyogo/A0101/A010101/28047084/ success!:200\n",
      "load:https://tabelog.com/hyogo/A0101/A010101/28047085/ success!:200\n",
      "load:https://tabelog.com/hyogo/A0101/A010101/28047086/ success!:200\n",
      "load:https://tabelog.com/hyogo/A0101/A010101/28047087/ success!:200\n",
      "load:https://tabelog.com/hyogo/A0101/A010101/28047088/ success!:200\n",
      "load:https://tabelog.com/hyogo/A0101/A010101/28047089/ success!:200\n",
      "load:https://tabelog.com/hyogo/A0101/A010101/28047090/ success!:200\n",
      "load:https://tabelog.com/hyogo/A0101/A010101/28047091/ success!:200\n",
      "load:https://tabelog.com/hyogo/A0101/A010101/28047092/ success!:200\n",
      "load:https://tabelog.com/hyogo/A0101/A010101/28047093/ success!:200\n",
      "load:https://tabelog.com/hyogo/A0101/A010101/28047094/ success!:200\n",
      "load:https://tabelog.com/hyogo/A0101/A010101/28047095/ success!:200\n",
      "load:https://tabelog.com/hyogo/A0101/A010101/28047096/ success!:200\n",
      "load:https://tabelog.com/hyogo/A0101/A010101/28047097/ success!:200\n",
      "load:https://tabelog.com/hyogo/A0101/A010101/28047098/ failed:404\n"
     ]
    },
    {
     "ename": "UnboundLocalError",
     "evalue": "local variable 'failed_cnt' referenced before assignment",
     "output_type": "error",
     "traceback": [
      "\u001b[1;31m---------------------------------------------------------------------------\u001b[0m",
      "\u001b[1;31mUnboundLocalError\u001b[0m                         Traceback (most recent call last)",
      "\u001b[1;32m~\\AppData\\Local\\Temp/ipykernel_31856/1634705887.py\u001b[0m in \u001b[0;36m<module>\u001b[1;34m\u001b[0m\n\u001b[0;32m     22\u001b[0m         \u001b[0mresponse\u001b[0m \u001b[1;33m=\u001b[0m \u001b[0mrequests\u001b[0m\u001b[1;33m.\u001b[0m\u001b[0mget\u001b[0m\u001b[1;33m(\u001b[0m\u001b[0murl\u001b[0m\u001b[1;33m)\u001b[0m \u001b[1;31m# HTTPリクエスト\u001b[0m\u001b[1;33m\u001b[0m\u001b[1;33m\u001b[0m\u001b[0m\n\u001b[0;32m     23\u001b[0m         \u001b[1;31m# 店舗ごとに処理\u001b[0m\u001b[1;33m\u001b[0m\u001b[1;33m\u001b[0m\u001b[0m\n\u001b[1;32m---> 24\u001b[1;33m         \u001b[0mipfunc\u001b[0m\u001b[1;33m.\u001b[0m\u001b[0mscraping\u001b[0m\u001b[1;33m(\u001b[0m\u001b[0mresponse\u001b[0m\u001b[1;33m,\u001b[0m \u001b[0mt_id\u001b[0m\u001b[1;33m,\u001b[0m \u001b[0murl\u001b[0m\u001b[1;33m)\u001b[0m\u001b[1;33m\u001b[0m\u001b[1;33m\u001b[0m\u001b[0m\n\u001b[0m\u001b[0;32m     25\u001b[0m \u001b[0mprint\u001b[0m\u001b[1;33m(\u001b[0m\u001b[1;34m'end'\u001b[0m\u001b[1;33m)\u001b[0m\u001b[1;33m\u001b[0m\u001b[1;33m\u001b[0m\u001b[0m\n",
      "\u001b[1;32m~\\git\\tabelog_scraping\\ipynb_function.py\u001b[0m in \u001b[0;36mscraping\u001b[1;34m(response, t_id, url)\u001b[0m\n\u001b[0;32m     15\u001b[0m     \u001b[1;32melse\u001b[0m\u001b[1;33m:\u001b[0m\u001b[1;33m\u001b[0m\u001b[1;33m\u001b[0m\u001b[0m\n\u001b[0;32m     16\u001b[0m         \u001b[0mprint\u001b[0m\u001b[1;33m(\u001b[0m\u001b[1;34mf'load:{url} failed:{response.status_code}'\u001b[0m\u001b[1;33m)\u001b[0m\u001b[1;33m\u001b[0m\u001b[1;33m\u001b[0m\u001b[0m\n\u001b[1;32m---> 17\u001b[1;33m         \u001b[0mfailed_cnt\u001b[0m \u001b[1;33m+=\u001b[0m \u001b[1;36m1\u001b[0m\u001b[1;33m\u001b[0m\u001b[1;33m\u001b[0m\u001b[0m\n\u001b[0m\u001b[0;32m     18\u001b[0m         \u001b[1;32mreturn\u001b[0m\u001b[1;33m\u001b[0m\u001b[1;33m\u001b[0m\u001b[0m\n\u001b[0;32m     19\u001b[0m     \u001b[0mdf\u001b[0m \u001b[1;33m=\u001b[0m \u001b[0mpd\u001b[0m\u001b[1;33m.\u001b[0m\u001b[0mDataFrame\u001b[0m\u001b[1;33m(\u001b[0m\u001b[1;33m)\u001b[0m\u001b[1;33m\u001b[0m\u001b[1;33m\u001b[0m\u001b[0m\n",
      "\u001b[1;31mUnboundLocalError\u001b[0m: local variable 'failed_cnt' referenced before assignment"
     ]
    }
   ],
   "source": [
    "import requests\n",
    "import pandas as pd\n",
    "import const\n",
    "import ipynb_function as ipfunc\n",
    "\n",
    "\n",
    "# 途中スタート位置\n",
    "before_df = pd.read_csv('data_base_all.csv', index_col='URL', encoding='utf-8', low_memory=False)\n",
    "before_t_id = '00000000' if len(before_df) == 0 else str(before_df.iloc[-1]['ID']).zfill(8)\n",
    "skip = [int(before_t_id[0:2]), int(before_t_id[-6:])]\n",
    "\n",
    "for i in range(1, 47):\n",
    "    # 県ごと\n",
    "    failed_cnt = 0\n",
    "    for j in range(1000000):\n",
    "        t_id = str(i*1000000+j).zfill(8)\n",
    "        if failed_cnt >= 100:\n",
    "            break\n",
    "        if (i <= skip[0] - 1) or (i == skip[0] and j <= skip[1]):\n",
    "            continue\n",
    "        url = f'https://tabelog.com/{const.TODOFUKEN_URL_LIST[t_id[:2]]}/A0101/A010101/{t_id}/'\n",
    "        response = requests.get(url) # HTTPリクエスト\n",
    "        if response.status_code == 200:\n",
    "            failed_cnt = 0\n",
    "            print(f'load:{url} success!:{response.status_code}')\n",
    "        else:\n",
    "            print(f'load:{url} failed:{response.status_code}')\n",
    "            failed_cnt += 1\n",
    "            continue\n",
    "        # 店舗ごとに処理\n",
    "        ipfunc.scraping(response, t_id, url)\n",
    "print('end')"
   ]
  },
  {
   "cell_type": "code",
   "execution_count": null,
   "metadata": {},
   "outputs": [],
   "source": [
    "import pandas as pd\n",
    "from IPython.display import display\n",
    "\n",
    "todofuken = '岩手'\n",
    "institution = ''\n",
    "genre = ''\n",
    "\n",
    "print('load csv')\n",
    "before_df = pd.read_csv('data_base_all.csv', index_col='URL', encoding='utf-8', low_memory=False)\n",
    "# before_t_id = '00000000' if len(before_df) == 1 else str(before_df.iloc[-1]['ID']).zfill(8)\n",
    "\n",
    "# print('load completed')\n",
    "# df = df[df.都道府県.str.contains(todofuken) & (df.ジャンル1.str.contains(genre) | df.ジャンル2.str.contains(genre) | df.ジャンル3.str.contains(genre))]\n",
    "# df = df.sort_values(['点数', '口コミ数', '保存件数'], ascending=False)\n",
    "# df.to_csv('result.csv', encoding='utf-8')\n",
    "\n",
    "# print(f'HIT件数：{len(df)} 件')"
   ]
  },
  {
   "cell_type": "code",
   "execution_count": null,
   "metadata": {},
   "outputs": [],
   "source": [
    "before_df[before_df.都道府県.str.contains('北海道|青森')]"
   ]
  },
  {
   "cell_type": "code",
   "execution_count": null,
   "metadata": {},
   "outputs": [],
   "source": [
    "df = pd.read_csv('data_base_all.csv', encoding='utf-8')\n",
    "df = df.sort_values(['点数', '口コミ数', '保存件数'], ascending=False)\n",
    "df = df.iloc[0:10][['店名', '点数', '口コミ数', '保存件数', 'ジャンル1']]\n",
    "\n",
    "for i in df.itertuples():\n",
    "    print(i[1:6])\n",
    "    \n",
    "    \n",
    "aaa = [1, 2, 3]\n",
    "aaa.remove(2)\n",
    "aaa"
   ]
  },
  {
   "cell_type": "code",
   "execution_count": null,
   "metadata": {},
   "outputs": [],
   "source": [
    "import numpy as np\n",
    "import pandas as pd\n",
    "from IPython.display import display, HTML\n",
    "\n",
    "df = pd.DataFrame(\n",
    "    [\n",
    "        [11, None, 15, 4, 5],\n",
    "        [2, 12, 10, 8, 16],\n",
    "        [17, 24, 14, 13, 23],\n",
    "        [19, 6, 18, None, 7],\n",
    "        [3, 9, 20, 21, 1],\n",
    "    ],\n",
    "    index=[\"a\", \"b\", \"c\", \"d\", \"e\"],\n",
    "    columns=[\"A\", \"B\", \"C\", \"D\", \"E\"],\n",
    ")\n",
    "# df = df.style.highlight_null(\"red\")\n",
    "\n",
    "df"
   ]
  },
  {
   "cell_type": "code",
   "execution_count": null,
   "metadata": {},
   "outputs": [],
   "source": [
    "import requests\n",
    "from bs4 import BeautifulSoup\n",
    "import re\n",
    "\n",
    "response = requests.get('https://tabelog.com/hokkaido/A0101/A010101/12000509/')\n",
    "soup = BeautifulSoup(response.text, \"html.parser\")\n",
    "\n",
    "# elems = soup.select('#rst-data-head > table:nth-child(2) > tbody > tr:nth-child(6) > td > p > span:nth-child(2) > a:nth-child(1)')\n",
    "# print(elems)\n",
    "# elems = soup.select('#rst-data-head > table:nth-child(2) > tbody > tr:nth-child(6) > td > p > span:nth-child(2) > a:nth-child(2)')\n",
    "# print(elems)\n",
    "# elems = soup.select('#rst-data-head > table:nth-child(2) > tbody > tr:nth-child(6) > td > p > span:nth-child(3)')\n",
    "# print(elems)\n",
    "\n",
    "\n",
    "# elems = soup.select('#rst-data-head > table:nth-child(2) > tbody > tr:nth-child(3) > td > p > span:nth-child(2) > a:nth-child(1)')\n",
    "# print(elems)\n",
    "# elems = soup.select('#rst-data-head > table:nth-child(2) > tbody > tr:nth-child(3) > td > p > span:nth-child(2) > a:nth-child(2)')\n",
    "# print(elems)\n",
    "# elems = soup.select('#rst-data-head > table:nth-child(4) > tbody > tr:nth-child(1) > td > p')\n",
    "# print(elems[0].contents[0])\n",
    "\n",
    "elems = soup.find_all('span', class_='rdheader-rating__review-target')\n",
    "value = elems[0].find_all('em', class_='num')[0].get_text()\n",
    "value = 0 if value == ' - ' else value\n",
    "value = jaconv.z2h(value, kana=False, digit=True, ascii=True).replace('~', '～').replace(',', '').replace('\\n', '').strip()\n",
    "print(value)"
   ]
  },
  {
   "cell_type": "code",
   "execution_count": null,
   "metadata": {},
   "outputs": [],
   "source": [
    "df_input = pd.read_csv('input/input.csv', header=0)\n",
    "for i in df_input.itertuples():\n",
    "    print(i)"
   ]
  },
  {
   "cell_type": "code",
   "execution_count": null,
   "metadata": {},
   "outputs": [],
   "source": [
    "import jaconv\n",
    "\n",
    "jaconv.z2h('克美ビル　４Ｆ', kana=False, digit=True, ascii=True)\n",
    "\n",
    "value = '4'\n",
    "value = 0 if value == '-' else 0 if value == '' else value\n",
    "value"
   ]
  },
  {
   "cell_type": "code",
   "execution_count": null,
   "metadata": {},
   "outputs": [],
   "source": [
    "import pandas as pd\n",
    "\n",
    "\n",
    "df = pd.DataFrame({'a': [1, 2, 3], 'b': [4, 5, 6]})\n",
    "df = pd.DataFrame({'a': ['aaa', 'bbb', 'ccc'], 'b': [4, 5, 6]})\n",
    "df[df.a.str.contains('aa|bb')]\n",
    "df.a.replace('a', 'b')"
   ]
  },
  {
   "cell_type": "code",
   "execution_count": null,
   "metadata": {},
   "outputs": [],
   "source": [
    "import re\n",
    "\n",
    "aaa = '2021 Gold/2020 Silver/2019 Gold/2018 Bronze/2017 Gold/'\n",
    "ret_str = ''\n",
    "for i in aaa.split('/'):\n",
    "    ret_str += i[2:6].replace(' ', '') + '/'\n",
    "ret_str[0:-2]\n",
    "\n",
    "bbb = 'ラーメン2020/ラーメン2019/ラーメン2018/'\n",
    "ret_str = re.sub(r'\\d', '', bbb.split('/')[0]) + ' '\n",
    "for meiten in bbb.split('/'):\n",
    "    ret_str += meiten[-2:] + '/'\n",
    "ret_str[0:-2]"
   ]
  },
  {
   "cell_type": "markdown",
   "metadata": {},
   "source": [
    "## import pandas as pd\n",
    "import function as func\n",
    "\n",
    "\n",
    "df_all = pd.read_csv('data_base_all.csv', encoding='utf-8').fillna('')\n",
    "df_target = func.processing_data_frame(df_all)\n",
    "df_target.iloc[0].URL"
   ]
  },
  {
   "cell_type": "code",
   "execution_count": null,
   "metadata": {},
   "outputs": [],
   "source": [
    "import numpy as np\n",
    "\n",
    "a = np.random.randint(0, 9, 5)\n",
    "b = np.random.randint(0, 9, 5)\n",
    "print(a)\n",
    "print(b)\n",
    "print(np.dot(a, b))\n",
    "\n",
    "a = np.random.randint(0, 9, (3, 2))\n",
    "b = np.random.randint(0, 9, (2, 3))\n",
    "print(a)\n",
    "print(b)\n",
    "print(np.dot(a, b))"
   ]
  },
  {
   "cell_type": "code",
   "execution_count": null,
   "metadata": {},
   "outputs": [],
   "source": [
    "import pandas as pd\n",
    "\n",
    "def func(row):\n",
    "    return row['a'] + row['b']\n",
    "\n",
    "df = pd.DataFrame({'a': [1, 2, 3], 'b': [4, 5, 6]})\n",
    "df['c'] = df['a'].apply(lambda x: x * 2)\n",
    "df['d'] = df.apply(func, axis=1)\n",
    "df"
   ]
  },
  {
   "cell_type": "code",
   "execution_count": null,
   "metadata": {},
   "outputs": [],
   "source": [
    "array_sample = np.random.normal(size=1000000)\n",
    "\n",
    "def non_vectorize(array_sample):\n",
    "    result = []\n",
    "    for i in array_sample:\n",
    "        result.append(i*i)\n",
    "    return np.array(result)\n",
    "\n",
    "%time non_vectorize_result = non_vectorize(array_sample)\n",
    "\n",
    "def vectorize(array_sample):\n",
    "    return array_sample*array_sample\n",
    "\n",
    "%time vectorize_result = vectorize(array_sample)\n",
    "\n",
    "print(non_vectorize(array_sample))\n",
    "print(vectorize(array_sample))\n",
    "\n",
    "aaa = [1, 2, 3, 4, 5]\n",
    "non_vectorize(aaa)\n",
    "\n",
    "%time _ = [i*i for i in array_sample]"
   ]
  },
  {
   "cell_type": "code",
   "execution_count": null,
   "metadata": {},
   "outputs": [],
   "source": [
    "import pandas as pd\n",
    "\n",
    "\n",
    "YOSAN_LIST = {\n",
    "    '-': 0, '～￥999': 1, '￥1000～￥1999': 2, '￥2000～￥2999': 3, '￥3000～￥3999': 4, '￥4000～￥4999': 5, '￥5000～￥5999': 6, '￥6000～￥7999': 7, '￥8000～￥9999': 8, \n",
    "    '￥10000～￥14999': 9, '￥15000～￥19999': 10, '￥20000～￥29999': 11, '￥30000～￥39999': 12, '￥40000～￥49999': 13, '￥50000～￥59999': 14, '￥60000～￥79999': 15, '￥80000～￥99999': 15, '￥100000～': 16, \n",
    "}\n",
    "\n",
    "df_all = pd.read_csv('data_base.csv', encoding='utf-8', low_memory=False).fillna('')\n",
    "df_all['予算'] = df_all['予算(夜)'].apply(lambda x: YOSAN_LIST[x])\n",
    "df_all[df_all.予算 == 5]"
   ]
  },
  {
   "cell_type": "code",
   "execution_count": null,
   "metadata": {},
   "outputs": [],
   "source": [
    "import pandas as pd\n",
    "\n",
    "df = pd.read_csv('data_base_all.csv', index_col='URL', encoding='utf-8', low_memory=False)\n",
    "\n",
    "# df1 = pd.DataFrame({'ジャンル': [1, 2, 3]})\n",
    "# df2 = pd.DataFrame({'ジャンル': [3, 4, 5]})\n",
    "df2 = pd.concat([df.ジャンル1, df.ジャンル2, df.ジャンル3])\n",
    "df3 = df2[~df2.duplicated(keep='last')]\n"
   ]
  },
  {
   "cell_type": "code",
   "execution_count": null,
   "metadata": {},
   "outputs": [],
   "source": [
    "df3 = df2[~df2.duplicated(keep='last')]\n",
    "df3.tolist()"
   ]
  },
  {
   "cell_type": "code",
   "execution_count": null,
   "metadata": {},
   "outputs": [],
   "source": [
    "aaa = 'abcdef'\n",
    "aaa[:2]"
   ]
  },
  {
   "cell_type": "code",
   "execution_count": null,
   "metadata": {},
   "outputs": [],
   "source": []
  }
 ],
 "metadata": {
  "kernelspec": {
   "display_name": "Python 3 (ipykernel)",
   "language": "python",
   "name": "python3"
  },
  "language_info": {
   "codemirror_mode": {
    "name": "ipython",
    "version": 3
   },
   "file_extension": ".py",
   "mimetype": "text/x-python",
   "name": "python",
   "nbconvert_exporter": "python",
   "pygments_lexer": "ipython3",
   "version": "3.9.7"
  }
 },
 "nbformat": 4,
 "nbformat_minor": 4
}
