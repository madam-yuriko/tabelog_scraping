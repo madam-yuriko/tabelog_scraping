{
 "cells": [
  {
   "cell_type": "code",
   "execution_count": 1,
   "metadata": {
    "tags": []
   },
   "outputs": [
    {
     "name": "stdout",
     "output_type": "stream",
     "text": [
      "load:https://tabelog.com/hyogo/A0101/A010101/28047050/ success!:200\n",
      "load:https://tabelog.com/hyogo/A0101/A010101/28047051/ success!:200\n",
      "load:https://tabelog.com/hyogo/A0101/A010101/28047052/ success!:200\n",
      "load:https://tabelog.com/hyogo/A0101/A010101/28047053/ success!:200\n",
      "load:https://tabelog.com/hyogo/A0101/A010101/28047054/ success!:200\n"
     ]
    },
    {
     "ename": "KeyboardInterrupt",
     "evalue": "",
     "output_type": "error",
     "traceback": [
      "\u001b[1;31m---------------------------------------------------------------------------\u001b[0m",
      "\u001b[1;31mKeyboardInterrupt\u001b[0m                         Traceback (most recent call last)",
      "\u001b[1;32m~\\AppData\\Local\\Temp/ipykernel_15584/2140196464.py\u001b[0m in \u001b[0;36m<module>\u001b[1;34m\u001b[0m\n\u001b[0;32m     29\u001b[0m             \u001b[1;32mcontinue\u001b[0m\u001b[1;33m\u001b[0m\u001b[1;33m\u001b[0m\u001b[0m\n\u001b[0;32m     30\u001b[0m         \u001b[1;31m# 店舗ごとに処理\u001b[0m\u001b[1;33m\u001b[0m\u001b[1;33m\u001b[0m\u001b[0m\n\u001b[1;32m---> 31\u001b[1;33m         \u001b[0mipfunc\u001b[0m\u001b[1;33m.\u001b[0m\u001b[0mscraping\u001b[0m\u001b[1;33m(\u001b[0m\u001b[0mresponse\u001b[0m\u001b[1;33m,\u001b[0m \u001b[0mt_id\u001b[0m\u001b[1;33m)\u001b[0m\u001b[1;33m\u001b[0m\u001b[1;33m\u001b[0m\u001b[0m\n\u001b[0m\u001b[0;32m     32\u001b[0m \u001b[0mprint\u001b[0m\u001b[1;33m(\u001b[0m\u001b[1;34m'end'\u001b[0m\u001b[1;33m)\u001b[0m\u001b[1;33m\u001b[0m\u001b[1;33m\u001b[0m\u001b[0m\n",
      "\u001b[1;32m~\\git\\tabelog_scraping\\ipynb_function.py\u001b[0m in \u001b[0;36mscraping\u001b[1;34m(response, t_id)\u001b[0m\n\u001b[0;32m     15\u001b[0m         \u001b[0melems_address\u001b[0m \u001b[1;33m=\u001b[0m \u001b[0msoup\u001b[0m\u001b[1;33m.\u001b[0m\u001b[0mfind_all\u001b[0m\u001b[1;33m(\u001b[0m\u001b[1;34m'p'\u001b[0m\u001b[1;33m,\u001b[0m \u001b[0mclass_\u001b[0m\u001b[1;33m=\u001b[0m\u001b[1;34m'rstinfo-table__address'\u001b[0m\u001b[1;33m)\u001b[0m\u001b[1;33m\u001b[0m\u001b[1;33m\u001b[0m\u001b[0m\n\u001b[0;32m     16\u001b[0m         \u001b[0melems_price\u001b[0m \u001b[1;33m=\u001b[0m \u001b[0msoup\u001b[0m\u001b[1;33m.\u001b[0m\u001b[0mfind_all\u001b[0m\u001b[1;33m(\u001b[0m\u001b[1;34m'span'\u001b[0m\u001b[1;33m,\u001b[0m \u001b[0mclass_\u001b[0m\u001b[1;33m=\u001b[0m\u001b[1;34m'rdheader-budget__price'\u001b[0m\u001b[1;33m)\u001b[0m\u001b[1;33m\u001b[0m\u001b[1;33m\u001b[0m\u001b[0m\n\u001b[1;32m---> 17\u001b[1;33m         \u001b[0melems_price_r\u001b[0m \u001b[1;33m=\u001b[0m \u001b[0msoup\u001b[0m\u001b[1;33m.\u001b[0m\u001b[0mfind_all\u001b[0m\u001b[1;33m(\u001b[0m\u001b[1;34m'em'\u001b[0m\u001b[1;33m,\u001b[0m \u001b[0mclass_\u001b[0m\u001b[1;33m=\u001b[0m\u001b[1;34m'gly-b-dinner'\u001b[0m\u001b[1;33m)\u001b[0m\u001b[1;33m\u001b[0m\u001b[1;33m\u001b[0m\u001b[0m\n\u001b[0m\u001b[0;32m     18\u001b[0m         \u001b[0melems_award\u001b[0m \u001b[1;33m=\u001b[0m \u001b[0msoup\u001b[0m\u001b[1;33m.\u001b[0m\u001b[0mfind_all\u001b[0m\u001b[1;33m(\u001b[0m\u001b[1;34m'div'\u001b[0m\u001b[1;33m,\u001b[0m \u001b[0mclass_\u001b[0m\u001b[1;33m=\u001b[0m\u001b[1;34m'rstinfo-table-badge-award'\u001b[0m\u001b[1;33m)\u001b[0m\u001b[1;33m\u001b[0m\u001b[1;33m\u001b[0m\u001b[0m\n\u001b[0;32m     19\u001b[0m         \u001b[1;32mif\u001b[0m \u001b[0mkey\u001b[0m \u001b[1;32min\u001b[0m \u001b[1;33m[\u001b[0m\u001b[1;34m'説明'\u001b[0m\u001b[1;33m,\u001b[0m \u001b[1;34m'説明詳細'\u001b[0m\u001b[1;33m]\u001b[0m\u001b[1;33m:\u001b[0m\u001b[1;33m\u001b[0m\u001b[1;33m\u001b[0m\u001b[0m\n",
      "\u001b[1;32m~\\anaconda3\\lib\\site-packages\\bs4\\element.py\u001b[0m in \u001b[0;36mfind_all\u001b[1;34m(self, name, attrs, recursive, text, limit, **kwargs)\u001b[0m\n\u001b[0;32m   1866\u001b[0m         \u001b[1;32mif\u001b[0m \u001b[1;32mnot\u001b[0m \u001b[0mrecursive\u001b[0m\u001b[1;33m:\u001b[0m\u001b[1;33m\u001b[0m\u001b[1;33m\u001b[0m\u001b[0m\n\u001b[0;32m   1867\u001b[0m             \u001b[0mgenerator\u001b[0m \u001b[1;33m=\u001b[0m \u001b[0mself\u001b[0m\u001b[1;33m.\u001b[0m\u001b[0mchildren\u001b[0m\u001b[1;33m\u001b[0m\u001b[1;33m\u001b[0m\u001b[0m\n\u001b[1;32m-> 1868\u001b[1;33m         \u001b[1;32mreturn\u001b[0m \u001b[0mself\u001b[0m\u001b[1;33m.\u001b[0m\u001b[0m_find_all\u001b[0m\u001b[1;33m(\u001b[0m\u001b[0mname\u001b[0m\u001b[1;33m,\u001b[0m \u001b[0mattrs\u001b[0m\u001b[1;33m,\u001b[0m \u001b[0mtext\u001b[0m\u001b[1;33m,\u001b[0m \u001b[0mlimit\u001b[0m\u001b[1;33m,\u001b[0m \u001b[0mgenerator\u001b[0m\u001b[1;33m,\u001b[0m \u001b[1;33m**\u001b[0m\u001b[0mkwargs\u001b[0m\u001b[1;33m)\u001b[0m\u001b[1;33m\u001b[0m\u001b[1;33m\u001b[0m\u001b[0m\n\u001b[0m\u001b[0;32m   1869\u001b[0m     \u001b[0mfindAll\u001b[0m \u001b[1;33m=\u001b[0m \u001b[0mfind_all\u001b[0m       \u001b[1;31m# BS3\u001b[0m\u001b[1;33m\u001b[0m\u001b[1;33m\u001b[0m\u001b[0m\n\u001b[0;32m   1870\u001b[0m     \u001b[0mfindChildren\u001b[0m \u001b[1;33m=\u001b[0m \u001b[0mfind_all\u001b[0m  \u001b[1;31m# BS2\u001b[0m\u001b[1;33m\u001b[0m\u001b[1;33m\u001b[0m\u001b[0m\n",
      "\u001b[1;32m~\\anaconda3\\lib\\site-packages\\bs4\\element.py\u001b[0m in \u001b[0;36m_find_all\u001b[1;34m(self, name, attrs, text, limit, generator, **kwargs)\u001b[0m\n\u001b[0;32m    823\u001b[0m                 \u001b[1;32mbreak\u001b[0m\u001b[1;33m\u001b[0m\u001b[1;33m\u001b[0m\u001b[0m\n\u001b[0;32m    824\u001b[0m             \u001b[1;32mif\u001b[0m \u001b[0mi\u001b[0m\u001b[1;33m:\u001b[0m\u001b[1;33m\u001b[0m\u001b[1;33m\u001b[0m\u001b[0m\n\u001b[1;32m--> 825\u001b[1;33m                 \u001b[0mfound\u001b[0m \u001b[1;33m=\u001b[0m \u001b[0mstrainer\u001b[0m\u001b[1;33m.\u001b[0m\u001b[0msearch\u001b[0m\u001b[1;33m(\u001b[0m\u001b[0mi\u001b[0m\u001b[1;33m)\u001b[0m\u001b[1;33m\u001b[0m\u001b[1;33m\u001b[0m\u001b[0m\n\u001b[0m\u001b[0;32m    826\u001b[0m                 \u001b[1;32mif\u001b[0m \u001b[0mfound\u001b[0m\u001b[1;33m:\u001b[0m\u001b[1;33m\u001b[0m\u001b[1;33m\u001b[0m\u001b[0m\n\u001b[0;32m    827\u001b[0m                     \u001b[0mresults\u001b[0m\u001b[1;33m.\u001b[0m\u001b[0mappend\u001b[0m\u001b[1;33m(\u001b[0m\u001b[0mfound\u001b[0m\u001b[1;33m)\u001b[0m\u001b[1;33m\u001b[0m\u001b[1;33m\u001b[0m\u001b[0m\n",
      "\u001b[1;32m~\\anaconda3\\lib\\site-packages\\bs4\\element.py\u001b[0m in \u001b[0;36msearch\u001b[1;34m(self, markup)\u001b[0m\n\u001b[0;32m   2133\u001b[0m         \u001b[1;31m# If given a list of items, scan it for a text element that\u001b[0m\u001b[1;33m\u001b[0m\u001b[1;33m\u001b[0m\u001b[0m\n\u001b[0;32m   2134\u001b[0m         \u001b[1;31m# matches.\u001b[0m\u001b[1;33m\u001b[0m\u001b[1;33m\u001b[0m\u001b[0m\n\u001b[1;32m-> 2135\u001b[1;33m         \u001b[1;32mif\u001b[0m \u001b[0mhasattr\u001b[0m\u001b[1;33m(\u001b[0m\u001b[0mmarkup\u001b[0m\u001b[1;33m,\u001b[0m \u001b[1;34m'__iter__'\u001b[0m\u001b[1;33m)\u001b[0m \u001b[1;32mand\u001b[0m \u001b[1;32mnot\u001b[0m \u001b[0misinstance\u001b[0m\u001b[1;33m(\u001b[0m\u001b[0mmarkup\u001b[0m\u001b[1;33m,\u001b[0m \u001b[1;33m(\u001b[0m\u001b[0mTag\u001b[0m\u001b[1;33m,\u001b[0m \u001b[0mstr\u001b[0m\u001b[1;33m)\u001b[0m\u001b[1;33m)\u001b[0m\u001b[1;33m:\u001b[0m\u001b[1;33m\u001b[0m\u001b[1;33m\u001b[0m\u001b[0m\n\u001b[0m\u001b[0;32m   2136\u001b[0m             \u001b[1;32mfor\u001b[0m \u001b[0melement\u001b[0m \u001b[1;32min\u001b[0m \u001b[0mmarkup\u001b[0m\u001b[1;33m:\u001b[0m\u001b[1;33m\u001b[0m\u001b[1;33m\u001b[0m\u001b[0m\n\u001b[0;32m   2137\u001b[0m                 \u001b[1;32mif\u001b[0m \u001b[0misinstance\u001b[0m\u001b[1;33m(\u001b[0m\u001b[0melement\u001b[0m\u001b[1;33m,\u001b[0m \u001b[0mNavigableString\u001b[0m\u001b[1;33m)\u001b[0m\u001b[0;31m \u001b[0m\u001b[0;31m\\\u001b[0m\u001b[1;33m\u001b[0m\u001b[1;33m\u001b[0m\u001b[0m\n",
      "\u001b[1;31mKeyboardInterrupt\u001b[0m: "
     ]
    }
   ],
   "source": [
    "import requests\n",
    "import pandas as pd\n",
    "import const\n",
    "import ipynb_function as ipfunc\n",
    "\n",
    "\n",
    "# 途中スタート位置\n",
    "before_df = pd.read_csv('data_base_all.csv', index_col='URL', encoding='utf-8', low_memory=False)\n",
    "before_t_id = '00000000' if len(before_df) == 0 else str(before_df.iloc[-1]['ID']).zfill(8)\n",
    "skip = [int(before_t_id[0:2]), int(before_t_id[-6:])]\n",
    "\n",
    "for i in range(1, 47):\n",
    "    # 県ごと\n",
    "    failed_cnt = 0\n",
    "    for j in range(1000000):\n",
    "        t_id = str(i*1000000+j).zfill(8)\n",
    "        if failed_cnt >= 100:\n",
    "            break\n",
    "        if (i <= skip[0] - 1) or (i == skip[0] and j <= skip[1]):\n",
    "            continue\n",
    "        url = f'https://tabelog.com/{const.TODOFUKEN_URL_LIST[t_id[:2]]}/A0101/A010101/{t_id}/'\n",
    "        response = requests.get(url) # HTTPリクエスト\n",
    "        # 店舗ごとに処理\n",
    "        ipfunc.scraping(response, t_id, url)\n",
    "print('end')"
   ]
  },
  {
   "cell_type": "code",
   "execution_count": null,
   "metadata": {},
   "outputs": [],
   "source": [
    "import pandas as pd\n",
    "from IPython.display import display\n",
    "\n",
    "todofuken = '岩手'\n",
    "institution = ''\n",
    "genre = ''\n",
    "\n",
    "print('load csv')\n",
    "before_df = pd.read_csv('data_base_all.csv', index_col='URL', encoding='utf-8', low_memory=False)\n",
    "# before_t_id = '00000000' if len(before_df) == 1 else str(before_df.iloc[-1]['ID']).zfill(8)\n",
    "\n",
    "# print('load completed')\n",
    "# df = df[df.都道府県.str.contains(todofuken) & (df.ジャンル1.str.contains(genre) | df.ジャンル2.str.contains(genre) | df.ジャンル3.str.contains(genre))]\n",
    "# df = df.sort_values(['点数', '口コミ数', '保存件数'], ascending=False)\n",
    "# df.to_csv('result.csv', encoding='utf-8')\n",
    "\n",
    "# print(f'HIT件数：{len(df)} 件')"
   ]
  },
  {
   "cell_type": "code",
   "execution_count": null,
   "metadata": {},
   "outputs": [],
   "source": [
    "before_df[before_df.都道府県.str.contains('北海道|青森')]"
   ]
  },
  {
   "cell_type": "code",
   "execution_count": null,
   "metadata": {},
   "outputs": [],
   "source": [
    "df = pd.read_csv('data_base_all.csv', encoding='utf-8')\n",
    "df = df.sort_values(['点数', '口コミ数', '保存件数'], ascending=False)\n",
    "df = df.iloc[0:10][['店名', '点数', '口コミ数', '保存件数', 'ジャンル1']]\n",
    "\n",
    "for i in df.itertuples():\n",
    "    print(i[1:6])\n",
    "    \n",
    "    \n",
    "aaa = [1, 2, 3]\n",
    "aaa.remove(2)\n",
    "aaa"
   ]
  },
  {
   "cell_type": "code",
   "execution_count": null,
   "metadata": {},
   "outputs": [],
   "source": [
    "import numpy as np\n",
    "import pandas as pd\n",
    "from IPython.display import display, HTML\n",
    "\n",
    "df = pd.DataFrame(\n",
    "    [\n",
    "        [11, None, 15, 4, 5],\n",
    "        [2, 12, 10, 8, 16],\n",
    "        [17, 24, 14, 13, 23],\n",
    "        [19, 6, 18, None, 7],\n",
    "        [3, 9, 20, 21, 1],\n",
    "    ],\n",
    "    index=[\"a\", \"b\", \"c\", \"d\", \"e\"],\n",
    "    columns=[\"A\", \"B\", \"C\", \"D\", \"E\"],\n",
    ")\n",
    "# df = df.style.highlight_null(\"red\")\n",
    "\n",
    "df"
   ]
  },
  {
   "cell_type": "code",
   "execution_count": null,
   "metadata": {},
   "outputs": [],
   "source": [
    "import requests\n",
    "from bs4 import BeautifulSoup\n",
    "import re\n",
    "\n",
    "response = requests.get('https://tabelog.com/hokkaido/A0101/A010101/12000509/')\n",
    "soup = BeautifulSoup(response.text, \"html.parser\")\n",
    "\n",
    "# elems = soup.select('#rst-data-head > table:nth-child(2) > tbody > tr:nth-child(6) > td > p > span:nth-child(2) > a:nth-child(1)')\n",
    "# print(elems)\n",
    "# elems = soup.select('#rst-data-head > table:nth-child(2) > tbody > tr:nth-child(6) > td > p > span:nth-child(2) > a:nth-child(2)')\n",
    "# print(elems)\n",
    "# elems = soup.select('#rst-data-head > table:nth-child(2) > tbody > tr:nth-child(6) > td > p > span:nth-child(3)')\n",
    "# print(elems)\n",
    "\n",
    "\n",
    "# elems = soup.select('#rst-data-head > table:nth-child(2) > tbody > tr:nth-child(3) > td > p > span:nth-child(2) > a:nth-child(1)')\n",
    "# print(elems)\n",
    "# elems = soup.select('#rst-data-head > table:nth-child(2) > tbody > tr:nth-child(3) > td > p > span:nth-child(2) > a:nth-child(2)')\n",
    "# print(elems)\n",
    "# elems = soup.select('#rst-data-head > table:nth-child(4) > tbody > tr:nth-child(1) > td > p')\n",
    "# print(elems[0].contents[0])\n",
    "\n",
    "elems = soup.find_all('span', class_='rdheader-rating__review-target')\n",
    "value = elems[0].find_all('em', class_='num')[0].get_text()\n",
    "value = 0 if value == ' - ' else value\n",
    "value = jaconv.z2h(value, kana=False, digit=True, ascii=True).replace('~', '～').replace(',', '').replace('\\n', '').strip()\n",
    "print(value)"
   ]
  },
  {
   "cell_type": "code",
   "execution_count": null,
   "metadata": {},
   "outputs": [],
   "source": [
    "df_input = pd.read_csv('input/input.csv', header=0)\n",
    "for i in df_input.itertuples():\n",
    "    print(i)"
   ]
  },
  {
   "cell_type": "code",
   "execution_count": null,
   "metadata": {},
   "outputs": [],
   "source": [
    "import jaconv\n",
    "\n",
    "jaconv.z2h('克美ビル　４Ｆ', kana=False, digit=True, ascii=True)\n",
    "\n",
    "value = '4'\n",
    "value = 0 if value == '-' else 0 if value == '' else value\n",
    "value"
   ]
  },
  {
   "cell_type": "code",
   "execution_count": null,
   "metadata": {},
   "outputs": [],
   "source": [
    "import pandas as pd\n",
    "\n",
    "\n",
    "df = pd.DataFrame({'a': [1, 2, 3], 'b': [4, 5, 6]})\n",
    "df = pd.DataFrame({'a': ['aaa', 'bbb', 'ccc'], 'b': [4, 5, 6]})\n",
    "df[df.a.str.contains('aa|bb')]\n",
    "df.a.replace('a', 'b')"
   ]
  },
  {
   "cell_type": "code",
   "execution_count": null,
   "metadata": {},
   "outputs": [],
   "source": [
    "import re\n",
    "\n",
    "aaa = '2021 Gold/2020 Silver/2019 Gold/2018 Bronze/2017 Gold/'\n",
    "ret_str = ''\n",
    "for i in aaa.split('/'):\n",
    "    ret_str += i[2:6].replace(' ', '') + '/'\n",
    "ret_str[0:-2]\n",
    "\n",
    "bbb = 'ラーメン2020/ラーメン2019/ラーメン2018/'\n",
    "ret_str = re.sub(r'\\d', '', bbb.split('/')[0]) + ' '\n",
    "for meiten in bbb.split('/'):\n",
    "    ret_str += meiten[-2:] + '/'\n",
    "ret_str[0:-2]"
   ]
  },
  {
   "cell_type": "markdown",
   "metadata": {},
   "source": [
    "## import pandas as pd\n",
    "import function as func\n",
    "\n",
    "\n",
    "df_all = pd.read_csv('data_base_all.csv', encoding='utf-8').fillna('')\n",
    "df_target = func.processing_data_frame(df_all)\n",
    "df_target.iloc[0].URL"
   ]
  },
  {
   "cell_type": "code",
   "execution_count": null,
   "metadata": {},
   "outputs": [],
   "source": [
    "import numpy as np\n",
    "\n",
    "a = np.random.randint(0, 9, 5)\n",
    "b = np.random.randint(0, 9, 5)\n",
    "print(a)\n",
    "print(b)\n",
    "print(np.dot(a, b))\n",
    "\n",
    "a = np.random.randint(0, 9, (3, 2))\n",
    "b = np.random.randint(0, 9, (2, 3))\n",
    "print(a)\n",
    "print(b)\n",
    "print(np.dot(a, b))"
   ]
  },
  {
   "cell_type": "code",
   "execution_count": null,
   "metadata": {},
   "outputs": [],
   "source": [
    "import pandas as pd\n",
    "\n",
    "def func(row):\n",
    "    return row['a'] + row['b']\n",
    "\n",
    "df = pd.DataFrame({'a': [1, 2, 3], 'b': [4, 5, 6]})\n",
    "df['c'] = df['a'].apply(lambda x: x * 2)\n",
    "df['d'] = df.apply(func, axis=1)\n",
    "df"
   ]
  },
  {
   "cell_type": "code",
   "execution_count": null,
   "metadata": {},
   "outputs": [],
   "source": [
    "array_sample = np.random.normal(size=1000000)\n",
    "\n",
    "def non_vectorize(array_sample):\n",
    "    result = []\n",
    "    for i in array_sample:\n",
    "        result.append(i*i)\n",
    "    return np.array(result)\n",
    "\n",
    "%time non_vectorize_result = non_vectorize(array_sample)\n",
    "\n",
    "def vectorize(array_sample):\n",
    "    return array_sample*array_sample\n",
    "\n",
    "%time vectorize_result = vectorize(array_sample)\n",
    "\n",
    "print(non_vectorize(array_sample))\n",
    "print(vectorize(array_sample))\n",
    "\n",
    "aaa = [1, 2, 3, 4, 5]\n",
    "non_vectorize(aaa)\n",
    "\n",
    "%time _ = [i*i for i in array_sample]"
   ]
  },
  {
   "cell_type": "code",
   "execution_count": null,
   "metadata": {},
   "outputs": [],
   "source": [
    "import pandas as pd\n",
    "\n",
    "\n",
    "YOSAN_LIST = {\n",
    "    '-': 0, '～￥999': 1, '￥1000～￥1999': 2, '￥2000～￥2999': 3, '￥3000～￥3999': 4, '￥4000～￥4999': 5, '￥5000～￥5999': 6, '￥6000～￥7999': 7, '￥8000～￥9999': 8, \n",
    "    '￥10000～￥14999': 9, '￥15000～￥19999': 10, '￥20000～￥29999': 11, '￥30000～￥39999': 12, '￥40000～￥49999': 13, '￥50000～￥59999': 14, '￥60000～￥79999': 15, '￥80000～￥99999': 15, '￥100000～': 16, \n",
    "}\n",
    "\n",
    "df_all = pd.read_csv('data_base.csv', encoding='utf-8', low_memory=False).fillna('')\n",
    "df_all['予算'] = df_all['予算(夜)'].apply(lambda x: YOSAN_LIST[x])\n",
    "df_all[df_all.予算 == 5]"
   ]
  },
  {
   "cell_type": "code",
   "execution_count": null,
   "metadata": {},
   "outputs": [],
   "source": [
    "import pandas as pd\n",
    "\n",
    "df = pd.read_csv('data_base_all.csv', index_col='URL', encoding='utf-8', low_memory=False)\n",
    "\n",
    "# df1 = pd.DataFrame({'ジャンル': [1, 2, 3]})\n",
    "# df2 = pd.DataFrame({'ジャンル': [3, 4, 5]})\n",
    "df2 = pd.concat([df.ジャンル1, df.ジャンル2, df.ジャンル3])\n",
    "df3 = df2[~df2.duplicated(keep='last')]\n"
   ]
  },
  {
   "cell_type": "code",
   "execution_count": null,
   "metadata": {},
   "outputs": [],
   "source": [
    "df3 = df2[~df2.duplicated(keep='last')]\n",
    "df3.tolist()"
   ]
  },
  {
   "cell_type": "code",
   "execution_count": 1,
   "metadata": {},
   "outputs": [
    {
     "data": {
      "text/plain": [
       "'ab'"
      ]
     },
     "execution_count": 1,
     "metadata": {},
     "output_type": "execute_result"
    }
   ],
   "source": [
    "aaa = 'abcdef'\n",
    "aaa[:2]"
   ]
  },
  {
   "cell_type": "code",
   "execution_count": null,
   "metadata": {},
   "outputs": [],
   "source": []
  }
 ],
 "metadata": {
  "kernelspec": {
   "display_name": "Python 3 (ipykernel)",
   "language": "python",
   "name": "python3"
  },
  "language_info": {
   "codemirror_mode": {
    "name": "ipython",
    "version": 3
   },
   "file_extension": ".py",
   "mimetype": "text/x-python",
   "name": "python",
   "nbconvert_exporter": "python",
   "pygments_lexer": "ipython3",
   "version": "3.9.7"
  }
 },
 "nbformat": 4,
 "nbformat_minor": 4
}
